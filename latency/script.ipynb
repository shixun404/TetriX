{
 "cells": [
  {
   "cell_type": "code",
   "execution_count": null,
   "metadata": {},
   "outputs": [],
   "source": [
    "nearest_neighbour = [6, 6, 6, 5, 9, 7, 8, 7, 7, 6, 6, 7, 6, 6, 6, 6, 7, 5, 8, 7, 7, 7, 7, 8, 6, 7, 6, 7, 6, 7, 6, 7, 7, 6, 6, 6, 8, 6, 7, 7, 8, 9, 7, 5, 6, 6, 6, 8, 7, 6]\n",
    "q = [6, 6, 6, 5, 8, 7, 7, 7, 7, 6,\n",
    "                    6, 7, 6, 6, 6, 6, 7, 5, 7, 7,\n",
    "                      8, 6, 6, 7, 6, 8, 6, 7, 6, 6,\n",
    "                        7, 8, 7, 6, 6, 6, 7, 6, 7, 7,\n",
    "                          7, 8, 6, 5, 6, 6, 6, 8, 7, 5]\n",
    "\n",
    "print(nearest_neighbour - q)\n"
   ]
  },
  {
   "cell_type": "code",
   "execution_count": null,
   "metadata": {},
   "outputs": [],
   "source": []
  }
 ],
 "metadata": {
  "language_info": {
   "name": "python"
  }
 },
 "nbformat": 4,
 "nbformat_minor": 2
}
