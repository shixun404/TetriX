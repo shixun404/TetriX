{
 "cells": [
  {
   "cell_type": "code",
   "execution_count": 10,
   "metadata": {},
   "outputs": [],
   "source": [
    "import networkx as nx\n",
    "import nx_cugraph as nxcg\n",
    "# Import needed libraries\n",
    "import os\n",
    "import pickle as pkl\n",
    "# Set environment variable\n",
    "os.environ['NETWORKX_AUTOMATIC_BACKENDS'] = 'cugraph'"
   ]
  },
  {
   "cell_type": "code",
   "execution_count": 18,
   "metadata": {},
   "outputs": [],
   "source": [
    "G = nx.Graph()\n",
    "N = 20\n",
    "i = 1\n",
    "K = 4\n",
    "graph_name = f'N={N}_{i}.pkl'\n",
    "with open(os.path.join('.', 'test_dataset', graph_name), 'rb') as f:\n",
    "    G = pkl.load(f)\n",
    "candidate_graph = nx.random_regular_graph(K, N)\n",
    "\n",
    "for u, v in candidate_graph.edges():\n",
    "    candidate_graph.edges[u,v]['weight'] = G.edges[u,v]['weight']\n",
    "    candidate_graph.edges[v,u]['weight'] = G.edges[v,u]['weight']\n",
    "\n",
    "nxcg_G = nxcg.from_networkx(candidate_graph, preserve_all_attrs=True)       \n",
    "# print(nxcg_G.edges(data=True))"
   ]
  },
  {
   "cell_type": "code",
   "execution_count": 19,
   "metadata": {},
   "outputs": [
    {
     "name": "stderr",
     "output_type": "stream",
     "text": [
      "/pscratch/sd/s/swu264/conda/rapids_raft/lib/python3.11/site-packages/cupy/cuda/compiler.py:233: PerformanceWarning: Jitify is performing a one-time only warm-up to populate the persistent cache, this may take a few seconds and will be improved in a future release...\n",
      "  jitify._init_module()\n"
     ]
    }
   ],
   "source": [
    "length = dict(nx.all_pairs_bellman_ford_path_length(nxcg_G, weight='weight'))"
   ]
  },
  {
   "cell_type": "code",
   "execution_count": 20,
   "metadata": {},
   "outputs": [
    {
     "name": "stdout",
     "output_type": "stream",
     "text": [
      "19.0\n"
     ]
    }
   ],
   "source": [
    "overall_max_value = float('-inf')\n",
    "for key, sub_dict in length.items():\n",
    "    # Find the max value in each nested dictionary\n",
    "    max_value = max(sub_dict.values())\n",
    "    # Update the overall maximum if the current max is greater\n",
    "    if max_value > overall_max_value:\n",
    "        overall_max_value = max_value\n",
    "print(overall_max_value)"
   ]
  },
  {
   "cell_type": "code",
   "execution_count": null,
   "metadata": {},
   "outputs": [],
   "source": []
  },
  {
   "cell_type": "code",
   "execution_count": 3,
   "metadata": {},
   "outputs": [
    {
     "name": "stdout",
     "output_type": "stream",
     "text": [
      "torch.Size([100, 100])\n",
      "torch.Size([100])\n",
      "already_reshape\n"
     ]
    },
    {
     "data": {
      "image/png": "[encoded data removed]",
      "text/plain": [
       "<Figure size 640x480 with 1 Axes>"
      ]
     },
     "metadata": {},
     "output_type": "display_data"
    }
   ],
   "source": [
    "import torch as th\n",
    "import matplotlib.pyplot as plt\n",
    "m = 10\n",
    "n = 10\n",
    "K = 2\n",
    "device = th.device(\"cuda:0\")\n",
    "x = th.zeros(m, n, K).to(device)\n",
    "dis = th.zeros(m * n, m * n).to(device)\n",
    "\n",
    "for i in range(m):\n",
    "    for j in range(n):\n",
    "        x[i][j][0] = i\n",
    "        x[i][j][1] = j\n",
    "x = x.reshape(-1, 2)\n",
    "cross = x @ x.T\n",
    "d1 = cross.diagonal()\n",
    "print(cross.shape)\n",
    "print(d1.shape)\n",
    "# assert 0\n",
    "xx = d1.repeat(m * n, 1)\n",
    "\n",
    "fincal_dis = xx - 2 * cross + xx.T\n",
    "# Step 3: Plot the histogram\n",
    "fincal_dis = fincal_dis.reshape(-1)\n",
    "# fincal_dis = fincal_dis / fincal_dis.sum()\n",
    "print(\"already_reshape\")\n",
    "plt.hist(fincal_dis.cpu().numpy(), bins='auto')\n",
    "plt.title('Histogram of 2x2 Tensor')\n",
    "plt.xlabel('Value')\n",
    "plt.ylabel('Frequency')\n",
    "plt.show()"
   ]
  },
  {
   "cell_type": "code",
   "execution_count": null,
   "metadata": {},
   "outputs": [],
   "source": []
  }
 ],
 "metadata": {
  "kernelspec": {
   "display_name": "Python 3",
   "language": "python",
   "name": "python3"
  },
  "language_info": {
   "codemirror_mode": {
    "name": "ipython",
    "version": 3
   },
   "file_extension": ".py",
   "mimetype": "text/x-python",
   "name": "python",
   "nbconvert_exporter": "python",
   "pygments_lexer": "ipython3",
   "version": "3.11.9"
  }
 },
 "nbformat": 4,
 "nbformat_minor": 2
}
